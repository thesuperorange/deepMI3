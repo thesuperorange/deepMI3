{
 "cells": [
  {
   "cell_type": "code",
   "execution_count": 29,
   "metadata": {},
   "outputs": [],
   "source": [
    "import _init_paths\n",
    "\n",
    "import torch\n",
    "import os\n",
    "from model.faster_rcnn.vgg16 import vgg16\n",
    "from model.utils.config import cfg"
   ]
  },
  {
   "cell_type": "markdown",
   "metadata": {},
   "source": [
    "## load model"
   ]
  },
  {
   "cell_type": "code",
   "execution_count": 30,
   "metadata": {},
   "outputs": [],
   "source": [
    "imdb_name = \"KAIST_train\"\n",
    "class_agnostic = False\n",
    "lr=0.001\n",
    "imdb_classes =  ('__background__',  # always index 0\n",
    "                          'person',\n",
    "                          'people','cyclist'\n",
    "                         )\n",
    "   \n",
    "#-----param---------------\n",
    "params = []\n",
    "for key, value in dict(fasterRCNN.named_parameters()).items():\n",
    "    if value.requires_grad:\n",
    "        if 'bias' in key:\n",
    "            params += [{'params':[value],'lr':lr*(cfg.TRAIN.DOUBLE_BIAS + 1), \\\n",
    "                    'weight_decay': cfg.TRAIN.BIAS_DECAY and cfg.TRAIN.WEIGHT_DECAY or 0}]\n",
    "        else:\n",
    "            params += [{'params':[value],'lr':lr, 'weight_decay': cfg.TRAIN.WEIGHT_DECAY}]\n",
    "#--------------------\n"
   ]
  },
  {
   "cell_type": "code",
   "execution_count": 75,
   "metadata": {},
   "outputs": [],
   "source": [
    "def load_fasterRCNN_model(path):\n",
    "\n",
    "    fasterRCNN = vgg16(imdb_classes, pretrained=True, class_agnostic=class_agnostic)\n",
    "    fasterRCNN.create_architecture()\n",
    "    fasterRCNN.cuda()\n",
    "\n",
    "    optimizer = torch.optim.SGD(params, momentum=cfg.TRAIN.MOMENTUM)\n",
    "\n",
    "\n",
    "    checkpoint = torch.load(path)  \n",
    "    #session = checkpoint['session']\n",
    "    #start_epoch = checkpoint['epoch']\n",
    "\n",
    "    fasterRCNN.load_state_dict(checkpoint['model']) \n",
    "    optimizer.load_state_dict(checkpoint['optimizer'])\n",
    "    #lr = optimizer.param_groups[0]['lr']\n",
    "\n",
    "\n",
    "    if 'pooling_mode' in checkpoint.keys():\n",
    "          POOLING_MODE = checkpoint['pooling_mode']\n",
    "    \n",
    "    return fasterRCNN"
   ]
  },
  {
   "cell_type": "code",
   "execution_count": 48,
   "metadata": {},
   "outputs": [
    {
     "data": {
      "text/plain": [
       "'align'"
      ]
     },
     "execution_count": 48,
     "metadata": {},
     "output_type": "execute_result"
    }
   ],
   "source": [
    "POOLING_MODE"
   ]
  },
  {
   "cell_type": "code",
   "execution_count": 79,
   "metadata": {},
   "outputs": [],
   "source": [
    "def avgWeight(model_list):\n",
    "    model_tmp=[None] * parties\n",
    "    #optims_tmp=[None] * parties\n",
    "\n",
    "    for idx, my_model in enumerate(model_list):\n",
    "        \n",
    "        model_tmp[idx] = my_model.state_dict()\n",
    "\n",
    "\n",
    "    for key in model_tmp[0]:    \n",
    "        #print(key)\n",
    "        model_sum = 0\n",
    "\n",
    "        for model_tmp_content in model_tmp:      \n",
    "            \n",
    "            model_sum += model_tmp_content[key]\n",
    "            #print(model_tmp_content[key])\n",
    "        for i in range(len(model_tmp)):\n",
    "            #print(\"model_sum={}\".format(model_sum))\n",
    "            #print(\"len:{}\".format(len(model_tmp)))\n",
    "            model_avg = model_sum/len(model_tmp)\n",
    "            #print(\"model_avg={}\".format(model_avg))\n",
    "            model_tmp[i][key] = model_sum/len(model_tmp)\n",
    "    for i in range(len(model_list)):    \n",
    "        model_list[i].load_state_dict(model_tmp[i])\n",
    "        #optims_tmp[i] = Optims(workers, optim=optim.SGD(params=model_list[i].parameters(),lr=args.lr, momentum = args.momentum,weight_decay=args.weight_decay))\n",
    "        #optims_tmp[i] = Optims(workers, optim=optim.Adam(params=model_list[i].parameters(),lr=args.lr))\n",
    "    return model_list  #, optims_tmp\n",
    "    "
   ]
  },
  {
   "cell_type": "code",
   "execution_count": 89,
   "metadata": {},
   "outputs": [
    {
     "name": "stdout",
     "output_type": "stream",
     "text": [
      "Loading pretrained weights from data/pretrained_model/vgg16_caffe.pth\n",
      "Loading pretrained weights from data/pretrained_model/vgg16_caffe.pth\n",
      "Loading pretrained weights from data/pretrained_model/vgg16_caffe.pth\n"
     ]
    }
   ],
   "source": [
    "path_checkpoint_campus ='models/vgg16/KAIST/faster_rcnn_KAIST_campus_1_2_718.pth'\n",
    "path_checkpoint_road ='models/vgg16/KAIST/faster_rcnn_KAIST_road_1_2_513.pth'\n",
    "path_checkpoint_downtown ='models/vgg16/KAIST/faster_rcnn_KAIST_downtown_1_2_566.pth'\n",
    "parties = 3\n",
    "\n",
    "model_list=[None] * parties\n",
    "model_list[0] = load_fasterRCNN_model(path_checkpoint_campus)\n",
    "model_list[1] = load_fasterRCNN_model(path_checkpoint_road)\n",
    "model_list[2] = load_fasterRCNN_model(path_checkpoint_downtown)\n"
   ]
  },
  {
   "cell_type": "code",
   "execution_count": 90,
   "metadata": {},
   "outputs": [],
   "source": [
    "model_avg = avgWeight(model_list)"
   ]
  },
  {
   "cell_type": "code",
   "execution_count": 91,
   "metadata": {},
   "outputs": [],
   "source": [
    "from model.utils.net_utils import save_checkpoint\n",
    "output_dir = 'models/vgg16/KAIST'\n",
    "save_name = os.path.join(output_dir, 'faster_rcnn_KAIST_AVG_{}.pth'.format(1))\n",
    "save_checkpoint({\n",
    "  'session': 1,\n",
    "  'epoch': 1,\n",
    "  'model':  model_avg[0].state_dict(),\n",
    "  'optimizer': optimizer.state_dict(),\n",
    "  'pooling_mode': POOLING_MODE,\n",
    "  'class_agnostic': class_agnostic,\n",
    "}, save_name)\n"
   ]
  },
  {
   "cell_type": "code",
   "execution_count": null,
   "metadata": {},
   "outputs": [],
   "source": []
  }
 ],
 "metadata": {
  "kernelspec": {
   "display_name": "fasterRCNN",
   "language": "python",
   "name": "fasterrcnn"
  },
  "language_info": {
   "codemirror_mode": {
    "name": "ipython",
    "version": 3
   },
   "file_extension": ".py",
   "mimetype": "text/x-python",
   "name": "python",
   "nbconvert_exporter": "python",
   "pygments_lexer": "ipython3",
   "version": "3.6.12"
  }
 },
 "nbformat": 4,
 "nbformat_minor": 2
}
