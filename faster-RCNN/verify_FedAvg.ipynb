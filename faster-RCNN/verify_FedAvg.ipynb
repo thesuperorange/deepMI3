{
 "cells": [
  {
   "cell_type": "code",
   "execution_count": 54,
   "metadata": {},
   "outputs": [],
   "source": [
    "        \n",
    "def avgWeight(model_list):\n",
    "    model_tmp=[None] * parties\n",
    "    #optims_tmp=[None] * parties\n",
    "\n",
    "    for idx, my_model in enumerate(model_list):\n",
    "        \n",
    "        model_tmp[idx] = my_model.state_dict()\n",
    "\n",
    "\n",
    "    for key in model_tmp[0]:    \n",
    "        #print(key)\n",
    "        model_sum = 0\n",
    "\n",
    "        for model_tmp_content in model_tmp:      \n",
    "            \n",
    "            model_sum += model_tmp_content[key]\n",
    "            #print(model_tmp_content[key])\n",
    "        for i in range(len(model_tmp)):\n",
    "            #print(\"model_sum={}\".format(model_sum))\n",
    "            #print(\"len:{}\".format(len(model_tmp)))\n",
    "            model_avg = model_sum/len(model_tmp)\n",
    "            #print(\"model_avg={}\".format(model_avg))\n",
    "            model_tmp[i][key] = model_avg\n",
    "    for i in range(len(model_list)):    \n",
    "        model_list[i].load_state_dict(model_tmp[i])\n",
    "        #optims_tmp[i] = Optims(workers, optim=optim.SGD(params=model_list[i].parameters(),lr=args.lr, momentum = args.momentum,weight_decay=args.weight_decay))\n",
    "        #optims_tmp[i] = Optims(workers, optim=optim.Adam(params=model_list[i].parameters(),lr=args.lr))\n",
    "    return model_list  #, optims_tmp\n",
    "            "
   ]
  },
  {
   "cell_type": "code",
   "execution_count": null,
   "metadata": {},
   "outputs": [],
   "source": []
  },
  {
   "cell_type": "code",
   "execution_count": 39,
   "metadata": {},
   "outputs": [],
   "source": [
    "import torch\n",
    "import torch.nn as nn\n",
    "class Net(nn.Module):\n",
    "    def __init__(self):\n",
    "        super(Net, self).__init__()        \n",
    "        self.fc2 = nn.Linear(1, 1)\n",
    "    def forward(self, x):\n",
    "        output = self.fc2(x)      \n",
    "        return output"
   ]
  },
  {
   "cell_type": "code",
   "execution_count": 52,
   "metadata": {},
   "outputs": [
    {
     "name": "stdout",
     "output_type": "stream",
     "text": [
      "OrderedDict([('fc2.weight', tensor([[0.4264]])), ('fc2.bias', tensor([0.2427]))])\n",
      "OrderedDict([('fc2.weight', tensor([[0.2486]])), ('fc2.bias', tensor([0.7888]))])\n",
      "OrderedDict([('fc2.weight', tensor([[-0.5699]])), ('fc2.bias', tensor([0.4633]))])\n",
      "OrderedDict([('fc2.weight', tensor([[0.1229]])), ('fc2.bias', tensor([-0.5920]))])\n"
     ]
    }
   ],
   "source": [
    "parties = 4\n",
    "model_list=[None] * parties\n",
    "for i in range(parties):\n",
    "    model_list[i]= Net()\n",
    "    print(model_list[i].state_dict())"
   ]
  },
  {
   "cell_type": "code",
   "execution_count": 55,
   "metadata": {},
   "outputs": [],
   "source": [
    "model_list = avgWeight(model_list)"
   ]
  },
  {
   "cell_type": "code",
   "execution_count": 56,
   "metadata": {},
   "outputs": [
    {
     "name": "stdout",
     "output_type": "stream",
     "text": [
      "OrderedDict([('fc2.weight', tensor([[0.0570]])), ('fc2.bias', tensor([0.2257]))])\n",
      "OrderedDict([('fc2.weight', tensor([[0.0570]])), ('fc2.bias', tensor([0.2257]))])\n",
      "OrderedDict([('fc2.weight', tensor([[0.0570]])), ('fc2.bias', tensor([0.2257]))])\n",
      "OrderedDict([('fc2.weight', tensor([[0.0570]])), ('fc2.bias', tensor([0.2257]))])\n"
     ]
    }
   ],
   "source": [
    "for i in range(parties):\n",
    "    print(model_list[i].state_dict())"
   ]
  },
  {
   "cell_type": "code",
   "execution_count": null,
   "metadata": {},
   "outputs": [],
   "source": []
  }
 ],
 "metadata": {
  "kernelspec": {
   "display_name": "fasterRCNN",
   "language": "python",
   "name": "fasterrcnn"
  },
  "language_info": {
   "codemirror_mode": {
    "name": "ipython",
    "version": 3
   },
   "file_extension": ".py",
   "mimetype": "text/x-python",
   "name": "python",
   "nbconvert_exporter": "python",
   "pygments_lexer": "ipython3",
   "version": "3.6.12"
  }
 },
 "nbformat": 4,
 "nbformat_minor": 2
}
