{
 "cells": [
  {
   "cell_type": "code",
   "execution_count": 2,
   "metadata": {},
   "outputs": [],
   "source": [
    "import os\n",
    "import torch\n",
    "import numpy as np\n",
    "import pandas as pd\n",
    "from PIL import Image\n",
    "from skimage.io import imread\n",
    "from torchvision import transforms\n",
    "import matplotlib.pyplot as plt      # plot library.\n",
    "from IPython.display import display \n",
    "\n",
    "from model.faster_rcnn.vgg16 import vgg16\n",
    "from model.faster_rcnn.resnet import resnet\n",
    "\n",
    "from frcnn_helper import *\n",
    "\n",
    "%matplotlib inline"
   ]
  },
  {
   "cell_type": "code",
   "execution_count": 3,
   "metadata": {},
   "outputs": [],
   "source": [
    "torch.cuda.empty_cache()"
   ]
  },
  {
   "cell_type": "code",
   "execution_count": 4,
   "metadata": {},
   "outputs": [
    {
     "name": "stdout",
     "output_type": "stream",
     "text": [
      "1.1.0\n"
     ]
    },
    {
     "data": {
      "image/png": "[encoded data removed]",
      "text/plain": [
       "<Figure size 432x288 with 1 Axes>"
      ]
     },
     "metadata": {
      "needs_background": "light"
     },
     "output_type": "display_data"
    }
   ],
   "source": [
    "print(torch.__version__)\n",
    "\n",
    "def scene_tag(file_name):\n",
    "    set_tag = file_name.split('_')[0][-2:]\n",
    "    if set_tag == \"06\" or set_tag == \"09\":\n",
    "        return 'campus'\n",
    "    if set_tag == \"07\" or set_tag == \"10\":\n",
    "        return 'road'\n",
    "    if set_tag == \"08\" or set_tag == \"11\":\n",
    "        return 'downtown'\n",
    "\n",
    "# Dealing with the filename first.\n",
    "BASE_DIR = '/home/superorange5/data/kaist_test/kaist_test_visible'\n",
    "file_names = [f for f in os.listdir(BASE_DIR) if '.png' in f]\n",
    "scene_tags = [scene_tag(f) for f in file_names]\n",
    "\n",
    "plt.hist(scene_tags);"
   ]
  },
  {
   "cell_type": "code",
   "execution_count": 5,
   "metadata": {},
   "outputs": [
    {
     "name": "stdout",
     "output_type": "stream",
     "text": [
      "CPU times: user 2.26 s, sys: 2.97 s, total: 5.23 s\n",
      "Wall time: 7.46 s\n"
     ]
    }
   ],
   "source": [
    "%%time\n",
    "\n",
    "model_campus  = torch.load('models/vgg16/KAIST/faster_rcnn_KAIST_3AVG/faster_rcnn_KAIST_campus_1_3_718.pth')\n",
    "model_road = torch.load('models/vgg16/KAIST/faster_rcnn_KAIST_3AVG/faster_rcnn_KAIST_road_1_3_513.pth')\n",
    "model_downtown = torch.load('models/vgg16/KAIST/faster_rcnn_KAIST_3AVG/faster_rcnn_KAIST_downtown_1_3_566.pth')\n",
    "\n",
    "# model_ls = [model_campus, model_downtown, model_road]"
   ]
  },
  {
   "cell_type": "code",
   "execution_count": null,
   "metadata": {},
   "outputs": [
    {
     "data": {
      "text/plain": [
       "vgg16(\n",
       "  (RCNN_rpn): _RPN(\n",
       "    (RPN_Conv): Conv2d(512, 512, kernel_size=(3, 3), stride=(1, 1), padding=(1, 1))\n",
       "    (RPN_cls_score): Conv2d(512, 24, kernel_size=(1, 1), stride=(1, 1))\n",
       "    (RPN_bbox_pred): Conv2d(512, 48, kernel_size=(1, 1), stride=(1, 1))\n",
       "    (RPN_proposal): _ProposalLayer()\n",
       "    (RPN_anchor_target): _AnchorTargetLayer()\n",
       "  )\n",
       "  (RCNN_proposal_target): _ProposalTargetLayer()\n",
       "  (RCNN_roi_pool): ROIPool(output_size=(7, 7), spatial_scale=0.0625)\n",
       "  (RCNN_roi_align): ROIAlign(output_size=(7, 7), spatial_scale=0.0625, sampling_ratio=0)\n",
       "  (RCNN_base): Sequential(\n",
       "    (0): Conv2d(3, 64, kernel_size=(3, 3), stride=(1, 1), padding=(1, 1))\n",
       "    (1): ReLU(inplace)\n",
       "    (2): Conv2d(64, 64, kernel_size=(3, 3), stride=(1, 1), padding=(1, 1))\n",
       "    (3): ReLU(inplace)\n",
       "    (4): MaxPool2d(kernel_size=2, stride=2, padding=0, dilation=1, ceil_mode=False)\n",
       "    (5): Conv2d(64, 128, kernel_size=(3, 3), stride=(1, 1), padding=(1, 1))\n",
       "    (6): ReLU(inplace)\n",
       "    (7): Conv2d(128, 128, kernel_size=(3, 3), stride=(1, 1), padding=(1, 1))\n",
       "    (8): ReLU(inplace)\n",
       "    (9): MaxPool2d(kernel_size=2, stride=2, padding=0, dilation=1, ceil_mode=False)\n",
       "    (10): Conv2d(128, 256, kernel_size=(3, 3), stride=(1, 1), padding=(1, 1))\n",
       "    (11): ReLU(inplace)\n",
       "    (12): Conv2d(256, 256, kernel_size=(3, 3), stride=(1, 1), padding=(1, 1))\n",
       "    (13): ReLU(inplace)\n",
       "    (14): Conv2d(256, 256, kernel_size=(3, 3), stride=(1, 1), padding=(1, 1))\n",
       "    (15): ReLU(inplace)\n",
       "    (16): MaxPool2d(kernel_size=2, stride=2, padding=0, dilation=1, ceil_mode=False)\n",
       "    (17): Conv2d(256, 512, kernel_size=(3, 3), stride=(1, 1), padding=(1, 1))\n",
       "    (18): ReLU(inplace)\n",
       "    (19): Conv2d(512, 512, kernel_size=(3, 3), stride=(1, 1), padding=(1, 1))\n",
       "    (20): ReLU(inplace)\n",
       "    (21): Conv2d(512, 512, kernel_size=(3, 3), stride=(1, 1), padding=(1, 1))\n",
       "    (22): ReLU(inplace)\n",
       "    (23): MaxPool2d(kernel_size=2, stride=2, padding=0, dilation=1, ceil_mode=False)\n",
       "    (24): Conv2d(512, 512, kernel_size=(3, 3), stride=(1, 1), padding=(1, 1))\n",
       "    (25): ReLU(inplace)\n",
       "    (26): Conv2d(512, 512, kernel_size=(3, 3), stride=(1, 1), padding=(1, 1))\n",
       "    (27): ReLU(inplace)\n",
       "    (28): Conv2d(512, 512, kernel_size=(3, 3), stride=(1, 1), padding=(1, 1))\n",
       "    (29): ReLU(inplace)\n",
       "  )\n",
       "  (RCNN_top): Sequential(\n",
       "    (0): Linear(in_features=25088, out_features=4096, bias=True)\n",
       "    (1): ReLU(inplace)\n",
       "    (2): Dropout(p=0.5)\n",
       "    (3): Linear(in_features=4096, out_features=4096, bias=True)\n",
       "    (4): ReLU(inplace)\n",
       "    (5): Dropout(p=0.5)\n",
       "  )\n",
       "  (RCNN_cls_score): Linear(in_features=4096, out_features=4, bias=True)\n",
       "  (RCNN_bbox_pred): Linear(in_features=4096, out_features=4, bias=True)\n",
       ")"
      ]
     },
     "execution_count": 6,
     "metadata": {},
     "output_type": "execute_result"
    }
   ],
   "source": [
    "KAIST_classes = np.asarray(['__background__','person','people','cyclist'])\n",
    "\n",
    "fasterRCNN = vgg16(KAIST_classes, pretrained=False, class_agnostic='class_agnostic')\n",
    "fasterRCNN.create_architecture()\n",
    "fasterRCNN.eval()\n",
    "fasterRCNN.cuda()"
   ]
  },
  {
   "cell_type": "code",
   "execution_count": null,
   "metadata": {},
   "outputs": [],
   "source": [
    "model = model_downtown\n",
    "\n",
    "# load the model by cheating.\n",
    "model['model']['RCNN_bbox_pred.weight'] = model['model']['RCNN_bbox_pred.weight'][:4]\n",
    "model['model']['RCNN_bbox_pred.bias'] = model['model']['RCNN_bbox_pred.bias'][:4]\n",
    "\n",
    "fasterRCNN.load_state_dict(model['model'])"
   ]
  },
  {
   "cell_type": "code",
   "execution_count": null,
   "metadata": {},
   "outputs": [],
   "source": [
    "fasterRCNN"
   ]
  },
  {
   "cell_type": "code",
   "execution_count": 9,
   "metadata": {},
   "outputs": [
    {
     "name": "stdout",
     "output_type": "stream",
     "text": [
      "CPU times: user 25.7 s, sys: 1.42 s, total: 27.2 s\n",
      "Wall time: 1min\n"
     ]
    }
   ],
   "source": [
    "%%time \n",
    "def preproc_frcnn(img):\n",
    "    \"\"\" follow the processing steps of fasterRCNN\n",
    "    \"\"\"\n",
    "    img = np.asarray(img[:,:,::-1], dtype=np.float32)\n",
    "    PIXEL_MEANS = np.array([[[102.9801, 115.9465, 122.7717]]])\n",
    "    img -= PIXEL_MEANS\n",
    "    \n",
    "    return torch.tensor(img)\n",
    "\n",
    "imgs_raw = [imread(os.path.join(BASE_DIR, fn)) for fn in file_names]"
   ]
  },
  {
   "cell_type": "code",
   "execution_count": 8,
   "metadata": {},
   "outputs": [
    {
     "name": "stdout",
     "output_type": "stream",
     "text": [
      "CPU times: user 45.4 s, sys: 4.25 s, total: 49.6 s\n",
      "Wall time: 12.8 s\n"
     ]
    }
   ],
   "source": [
    "%%time\n",
    "imgs = [preproc_frcnn(img).unsqueeze(0).permute(0, 3, 1, 2) for img in imgs_raw]"
   ]
  },
  {
   "cell_type": "code",
   "execution_count": 9,
   "metadata": {},
   "outputs": [
    {
     "name": "stdout",
     "output_type": "stream",
     "text": [
      "Output shape: (2252, 25088)\n",
      "CPU times: user 42.6 s, sys: 11.6 s, total: 54.2 s\n",
      "Wall time: 28.2 s\n"
     ]
    }
   ],
   "source": [
    "%%time\n",
    "# Extract feature map from the baselayer of frcnn\n",
    "\n",
    "X = get_features(fasterRCNN, imgs, batch_sz=64)\n",
    "torch.cuda.empty_cache()\n",
    "\n",
    "print(\"Output shape: {:}\".format(X.shape))"
   ]
  },
  {
   "cell_type": "code",
   "execution_count": 10,
   "metadata": {},
   "outputs": [
    {
     "name": "stdout",
     "output_type": "stream",
     "text": [
      "CPU times: user 10min 2s, sys: 8.7 s, total: 10min 11s\n",
      "Wall time: 2min 41s\n"
     ]
    },
    {
     "data": {
      "text/plain": [
       "[<matplotlib.lines.Line2D at 0x7f4855287278>]"
      ]
     },
     "execution_count": 10,
     "metadata": {},
     "output_type": "execute_result"
    },
    {
     "data": {
      "image/png": "[encoded data removed]",
      "text/plain": [
       "<Figure size 432x288 with 1 Axes>"
      ]
     },
     "metadata": {
      "needs_background": "light"
     },
     "output_type": "display_data"
    }
   ],
   "source": [
    "%%time\n",
    "# calculate within-group disparesion for test.\n",
    "gap_stats_k = [within_cluster_dispersion(X, n_cluster=k) for k in range(10, 20, 2)]\n",
    "\n",
    "plt.plot(gap_stats_k)"
   ]
  },
  {
   "cell_type": "code",
   "execution_count": 11,
   "metadata": {},
   "outputs": [],
   "source": [
    "# Load the prepared predictions from different FedAVG model.\n",
    "x_campus = np.load('x_campus.npy')/255.0\n",
    "x_downtown = np.load('x_downtown.npy')/255.0\n",
    "x_road = np.load('x_road.npy')/255.0"
   ]
  },
  {
   "cell_type": "code",
   "execution_count": 12,
   "metadata": {},
   "outputs": [
    {
     "name": "stdout",
     "output_type": "stream",
     "text": [
      "CPU times: user 11min 10s, sys: 9.4 s, total: 11min 20s\n",
      "Wall time: 2min 57s\n"
     ]
    },
    {
     "data": {
      "image/png": "[encoded data removed]",
      "text/plain": [
       "<Figure size 432x288 with 1 Axes>"
      ]
     },
     "metadata": {
      "needs_background": "light"
     },
     "output_type": "display_data"
    }
   ],
   "source": [
    "%%time\n",
    "\n",
    "# Draw the within-cluster dispaersion for different model & [# of cluster].\n",
    "gap_stats_ls = []\n",
    "x_scences = [x_campus, x_downtown, x_road]\n",
    "labels = ['campus', 'downtown', 'road']\n",
    "\n",
    "K_CLUSTERS = [i for i in range(10, 20, 5)]\n",
    "\n",
    "for x, lbl in zip(x_scences, labels):\n",
    "    \n",
    "    gap_stats_k = [within_cluster_dispersion(x, n_cluster=k) for k in K_CLUSTERS]\n",
    "    gap_stats_ls.append(gap_stats_k)\n",
    "    plt.plot(gap_stats_k, label=lbl)"
   ]
  },
  {
   "cell_type": "code",
   "execution_count": 13,
   "metadata": {},
   "outputs": [
    {
     "data": {
      "text/html": [
       "<div>\n",
       "<style scoped>\n",
       "    .dataframe tbody tr th:only-of-type {\n",
       "        vertical-align: middle;\n",
       "    }\n",
       "\n",
       "    .dataframe tbody tr th {\n",
       "        vertical-align: top;\n",
       "    }\n",
       "\n",
       "    .dataframe thead th {\n",
       "        text-align: right;\n",
       "    }\n",
       "</style>\n",
       "<table border=\"1\" class=\"dataframe\">\n",
       "  <thead>\n",
       "    <tr style=\"text-align: right;\">\n",
       "      <th></th>\n",
       "      <th>10</th>\n",
       "      <th>15</th>\n",
       "    </tr>\n",
       "  </thead>\n",
       "  <tbody>\n",
       "    <tr>\n",
       "      <th>campus</th>\n",
       "      <td>0.227</td>\n",
       "      <td>0.233</td>\n",
       "    </tr>\n",
       "    <tr>\n",
       "      <th>downtown</th>\n",
       "      <td>0.308</td>\n",
       "      <td>0.310</td>\n",
       "    </tr>\n",
       "    <tr>\n",
       "      <th>road</th>\n",
       "      <td>0.465</td>\n",
       "      <td>0.457</td>\n",
       "    </tr>\n",
       "  </tbody>\n",
       "</table>\n",
       "</div>"
      ],
      "text/plain": [
       "             10     15\n",
       "campus    0.227  0.233\n",
       "downtown  0.308  0.310\n",
       "road      0.465  0.457"
      ]
     },
     "metadata": {},
     "output_type": "display_data"
    }
   ],
   "source": [
    "# Apply softmax to derive proper weights for agregating models.\n",
    "from scipy.special import softmax\n",
    "\n",
    "pd.set_option('precision', 3)\n",
    "\n",
    "gap_stats_np = np.asarray(gap_stats_ls)\n",
    "df_res = pd.DataFrame(softmax(gap_stats_np, axis=0), columns=K_CLUSTERS, index=labels)\n",
    "\n",
    "display(df_res)"
   ]
  },
  {
   "cell_type": "code",
   "execution_count": null,
   "metadata": {},
   "outputs": [],
   "source": []
  },
  {
   "cell_type": "code",
   "execution_count": null,
   "metadata": {},
   "outputs": [],
   "source": []
  },
  {
   "cell_type": "code",
   "execution_count": 14,
   "metadata": {},
   "outputs": [],
   "source": [
    "def avgWeight(model_list):\n",
    "    model_tmp=[None] * parties\n",
    "    #optims_tmp=[None] * parties\n",
    "\n",
    "    for idx, my_model in enumerate(model_list):\n",
    "        \n",
    "        model_tmp[idx] = my_model.state_dict()\n",
    "\n",
    "\n",
    "    for key in model_tmp[0]:    \n",
    "        #print(key)\n",
    "        model_sum = 0\n",
    "\n",
    "        for model_tmp_content in model_tmp:      \n",
    "            \n",
    "            model_sum += model_tmp_content[key]\n",
    "            #print(model_tmp_content[key])\n",
    "        for i in range(len(model_tmp)):\n",
    "            #print(\"model_sum={}\".format(model_sum))\n",
    "            #print(\"len:{}\".format(len(model_tmp)))\n",
    "            model_avg = model_sum/len(model_tmp)\n",
    "            #print(\"model_avg={}\".format(model_avg))\n",
    "            model_tmp[i][key] = model_sum/len(model_tmp)\n",
    "    for i in range(len(model_list)):    \n",
    "        model_list[i].load_state_dict(model_tmp[i])\n",
    "        #optims_tmp[i] = Optims(workers, optim=optim.SGD(params=model_list[i].parameters(),lr=args.lr, momentum = args.momentum,weight_decay=args.weight_decay))\n",
    "        #optims_tmp[i] = Optims(workers, optim=optim.Adam(params=model_list[i].parameters(),lr=args.lr))\n",
    "    return model_list  #, optims_tmp"
   ]
  },
  {
   "cell_type": "code",
   "execution_count": 15,
   "metadata": {},
   "outputs": [],
   "source": [
    "# model_ls = [model_campus, model_downtown, model_road]"
   ]
  }
 ],
 "metadata": {
  "kernelspec": {
   "display_name": "fasterRCNN",
   "language": "python",
   "name": "fasterrcnn"
  },
  "language_info": {
   "codemirror_mode": {
    "name": "ipython",
    "version": 3
   },
   "file_extension": ".py",
   "mimetype": "text/x-python",
   "name": "python",
   "nbconvert_exporter": "python",
   "pygments_lexer": "ipython3",
   "version": "3.6.12"
  }
 },
 "nbformat": 4,
 "nbformat_minor": 4
}
