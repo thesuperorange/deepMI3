{
 "cells": [
  {
   "cell_type": "code",
   "execution_count": 1,
   "metadata": {},
   "outputs": [],
   "source": [
    "import FedUtils\n",
    "from model.utils.config import cfg\n",
    "from model.utils.net_utils import save_checkpoint\n",
    "import os"
   ]
  },
  {
   "cell_type": "markdown",
   "metadata": {},
   "source": [
    "## setting"
   ]
  },
  {
   "cell_type": "code",
   "execution_count": 2,
   "metadata": {},
   "outputs": [],
   "source": [
    "class Arguments():\n",
    "    def __init__(self):\n",
    "        self.class_agnostic =False\n",
    "        self.epochs = 3\n",
    "        self.lr = 0.001\n",
    "        self.lr_decay_step = 4\n",
    "        self.dataset = 'KAIST'\n",
    "        self.net = 'vgg16'\n",
    "        self.batch_size = 24\n",
    "        self.nw = 2\n",
    "        self.cuda = True\n",
    "        #self.round = 10\n",
    "        self.mGPUs=True\n",
    "        self.optimizer =\"sgd\"\n",
    "        self.k=3\n",
    "        #self.device = th.device(\"cpu\")\n",
    "        \n",
    "args = Arguments()"
   ]
  },
  {
   "cell_type": "code",
   "execution_count": 3,
   "metadata": {},
   "outputs": [],
   "source": [
    "imdb_classes =  ('__background__',  # always index 0\n",
    "                          'person',\n",
    "                          'people','cyclist'\n",
    "                         )"
   ]
  },
  {
   "cell_type": "code",
   "execution_count": 4,
   "metadata": {},
   "outputs": [],
   "source": [
    "sub_folder = 'wkFedPer_rd'\n",
    "output_dir =  \"models/\" + args.net + \"/\" + args.dataset + \"/\" + sub_folder\n",
    "\n"
   ]
  },
  {
   "cell_type": "markdown",
   "metadata": {},
   "source": [
    "## function"
   ]
  },
  {
   "cell_type": "code",
   "execution_count": 5,
   "metadata": {},
   "outputs": [],
   "source": [
    "\n",
    "def printModel(model_avg):\n",
    "    for key in model_avg.module.RCNN_rpn.state_dict():\n",
    "        print(key)\n",
    "        print(model_avg.module.RCNN_rpn.state_dict()[key])\n",
    "\n",
    "    count=0\n",
    "    for key in model_avg.module.RCNN_base.state_dict():\n",
    "        print(key)\n",
    "        \n",
    "        if count>10:\n",
    "            print(model_avg.module.RCNN_base.state_dict()[key])\n",
    "        elif count>15:\n",
    "            break\n",
    "        count+=1"
   ]
  },
  {
   "cell_type": "code",
   "execution_count": 6,
   "metadata": {},
   "outputs": [],
   "source": [
    "def copyBaseAvgPersonal(model_list,ratio_list, avg_model):\n",
    "    parties = len(model_list)\n",
    "    model_tmp=[None] * parties\n",
    "    #optims_tmp=[None] * parties\n",
    "\n",
    "    for idx, my_model in enumerate(model_list):\n",
    "        \n",
    "        model_tmp[idx] = my_model.state_dict()\n",
    "\n",
    "\n",
    "    for key in model_tmp[0]:    \n",
    "        #print(key)\n",
    "        \n",
    "        if \"RCNN_base\"  in key: \n",
    "            #print(\"copy base layer from AVG\")            \n",
    "            for i in range(len(model_tmp)):  #copy to each model            \n",
    "                model_tmp[i][key] = avg_model.state_dict()[key]\n",
    "            \n",
    "        else:\n",
    "            #print(\"avg other layer\")\n",
    "            model_avg = 0\n",
    "\n",
    "            for idx, model_tmp_content in enumerate(model_tmp):     # add each model              \n",
    "                model_avg += ratio_list[idx] * model_tmp_content[key]\n",
    "\n",
    "            for i in range(len(model_tmp)):  #copy to each model            \n",
    "                model_tmp[i][key] = model_avg\n",
    "    for i in range(len(model_list)):    \n",
    "        model_list[i].load_state_dict(model_tmp[i])\n",
    "        \n",
    "    return model_list  #, optims_tmp\n",
    "    "
   ]
  },
  {
   "cell_type": "markdown",
   "metadata": {},
   "source": [
    "## load model"
   ]
  },
  {
   "cell_type": "code",
   "execution_count": 7,
   "metadata": {},
   "outputs": [
    {
     "name": "stdout",
     "output_type": "stream",
     "text": [
      "Loading pretrained weights from data/pretrained_model/vgg16_caffe.pth\n",
      "Loading pretrained weights from data/pretrained_model/vgg16_caffe.pth\n",
      "Loading pretrained weights from data/pretrained_model/vgg16_caffe.pth\n",
      "Loading pretrained weights from data/pretrained_model/vgg16_caffe.pth\n",
      "Loading pretrained weights from data/pretrained_model/vgg16_caffe.pth\n",
      "Loading pretrained weights from data/pretrained_model/vgg16_caffe.pth\n",
      "Loading pretrained weights from data/pretrained_model/vgg16_caffe.pth\n",
      "Loading pretrained weights from data/pretrained_model/vgg16_caffe.pth\n",
      "Loading pretrained weights from data/pretrained_model/vgg16_caffe.pth\n",
      "Loading pretrained weights from data/pretrained_model/vgg16_caffe.pth\n",
      "Loading pretrained weights from data/pretrained_model/vgg16_caffe.pth\n",
      "Loading pretrained weights from data/pretrained_model/vgg16_caffe.pth\n",
      "Loading pretrained weights from data/pretrained_model/vgg16_caffe.pth\n",
      "Loading pretrained weights from data/pretrained_model/vgg16_caffe.pth\n",
      "Loading pretrained weights from data/pretrained_model/vgg16_caffe.pth\n",
      "Loading pretrained weights from data/pretrained_model/vgg16_caffe.pth\n",
      "Loading pretrained weights from data/pretrained_model/vgg16_caffe.pth\n",
      "Loading pretrained weights from data/pretrained_model/vgg16_caffe.pth\n",
      "Loading pretrained weights from data/pretrained_model/vgg16_caffe.pth\n",
      "Loading pretrained weights from data/pretrained_model/vgg16_caffe.pth\n",
      "Loading pretrained weights from data/pretrained_model/vgg16_caffe.pth\n",
      "Loading pretrained weights from data/pretrained_model/vgg16_caffe.pth\n",
      "Loading pretrained weights from data/pretrained_model/vgg16_caffe.pth\n",
      "Loading pretrained weights from data/pretrained_model/vgg16_caffe.pth\n",
      "Loading pretrained weights from data/pretrained_model/vgg16_caffe.pth\n",
      "Loading pretrained weights from data/pretrained_model/vgg16_caffe.pth\n",
      "Loading pretrained weights from data/pretrained_model/vgg16_caffe.pth\n",
      "Loading pretrained weights from data/pretrained_model/vgg16_caffe.pth\n",
      "Loading pretrained weights from data/pretrained_model/vgg16_caffe.pth\n",
      "Loading pretrained weights from data/pretrained_model/vgg16_caffe.pth\n"
     ]
    }
   ],
   "source": [
    "for round_i in range(1,10+1):\n",
    "    ## load avg model\n",
    "    load_name = os.path.join(output_dir,'faster_rcnn_KAIST_AVG_'+str(round_i)+'.pth')\n",
    "    model_avg, optimizer, start_round =FedUtils.load_model(imdb_classes, load_name, args, cfg)\n",
    "\n",
    "## load scene models\n",
    "    model_path = [\n",
    "        #output_dir+'/faster_rcnn_KAIST_campus_'+str(round_i)+'_3_718.pth',\n",
    "        output_dir+'/faster_rcnn_KAIST_road_'+str(round_i)+'_3_513.pth' ,\n",
    "        output_dir+'/faster_rcnn_KAIST_downtown_'+str(round_i)+'_3_566.pth'\n",
    "        ]\n",
    "\n",
    "    parties = len(model_path)\n",
    "\n",
    "\n",
    "    model_list=[None] * parties\n",
    "    for i in range(parties):\n",
    "        model_list[i],optimizer, start_round = FedUtils.load_model(imdb_classes,model_path[i], args,cfg)\n",
    "    \n",
    "    \n",
    "    ratio_list =  [1] * parties \n",
    "    ratio_list = [x / parties for x in ratio_list]    \n",
    "    # copy base layer and average personal layer                             \n",
    "    model_list = copyBaseAvgPersonal(model_list,ratio_list, model_avg)            \n",
    "                             \n",
    "# save model\n",
    "    save_name = os.path.join(output_dir, 'faster_rcnn_KAIST_AVG_{}_n.pth'.format(round_i))\n",
    "    save_checkpoint({\n",
    "      #'session': 1,\n",
    "      'round': round_i,\n",
    "      'model':  model_list[0].module.state_dict() if args.mGPUs else model_list[0].state_dict(), \n",
    "      'optimizer': optimizer.state_dict(),\n",
    "      'pooling_mode': cfg.POOLING_MODE,\n",
    "      'class_agnostic': args.class_agnostic,\n",
    "    }, save_name)                             "
   ]
  },
  {
   "cell_type": "code",
   "execution_count": 14,
   "metadata": {},
   "outputs": [],
   "source": []
  }
 ],
 "metadata": {
  "kernelspec": {
   "display_name": "fasterRCNN",
   "language": "python",
   "name": "fasterrcnn"
  },
  "language_info": {
   "codemirror_mode": {
    "name": "ipython",
    "version": 3
   },
   "file_extension": ".py",
   "mimetype": "text/x-python",
   "name": "python",
   "nbconvert_exporter": "python",
   "pygments_lexer": "ipython3",
   "version": "3.6.12"
  }
 },
 "nbformat": 4,
 "nbformat_minor": 2
}
