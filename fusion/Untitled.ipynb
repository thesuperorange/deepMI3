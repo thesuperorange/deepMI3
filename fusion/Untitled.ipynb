{
 "cells": [
  {
   "cell_type": "code",
   "execution_count": 4,
   "metadata": {},
   "outputs": [],
   "source": [
    "import numpy as np\n",
    "def get_iou(pred_box, gt_box):\n",
    "    \"\"\"\n",
    "    pred_box : the coordinate for predict bounding box\n",
    "    gt_box :   the coordinate for ground truth bounding box\n",
    "    return :   the iou score\n",
    "    the  left-down coordinate of  pred_box:(pred_box[0], pred_box[1])\n",
    "    the  right-up coordinate of  pred_box:(pred_box[2], pred_box[3])\n",
    "    \"\"\"\n",
    "    # 1.get the coordinate of inters\n",
    "    ixmin = max(pred_box[0], gt_box[0])\n",
    "    ixmax = min(pred_box[2], gt_box[2])\n",
    "    iymin = max(pred_box[1], gt_box[1])\n",
    "    iymax = min(pred_box[3], gt_box[3])\n",
    "\n",
    "    iw = np.maximum(ixmax-ixmin+1., 0.)\n",
    "    ih = np.maximum(iymax-iymin+1., 0.)\n",
    "\n",
    "    # 2. calculate the area of inters\n",
    "    inters = iw*ih\n",
    "\n",
    "    # 3. calculate the area of union\n",
    "    uni = ((pred_box[2]-pred_box[0]+1.) * (pred_box[3]-pred_box[1]+1.) +\n",
    "           (gt_box[2] - gt_box[0] + 1.) * (gt_box[3] - gt_box[1] + 1.) -\n",
    "           inters)\n",
    "\n",
    "    # 4. calculate the overlaps between pred_box and gt_box\n",
    "    iou = inters / uni\n",
    "\n",
    "    return iou"
   ]
  },
  {
   "cell_type": "code",
   "execution_count": 5,
   "metadata": {},
   "outputs": [
    {
     "data": {
      "text/plain": [
       "0.7887668955863698"
      ]
     },
     "execution_count": 5,
     "metadata": {},
     "output_type": "execute_result"
    }
   ],
   "source": [
    "bba = [10, 262, 219, 468]\n",
    "bbb= [8, 273, 193, 478]\n",
    "get_iou(bba, bbb)\n"
   ]
  },
  {
   "cell_type": "code",
   "execution_count": 32,
   "metadata": {},
   "outputs": [
    {
     "name": "stdout",
     "output_type": "stream",
     "text": [
      "/home/superorange5/Research/YOLOv4/yolov4_opencv/merge/Pathway1_1_merge not exist\n",
      "/home/superorange5/Research/YOLOv4/yolov4_opencv/merge/Pathway2_1_merge not exist\n",
      "/home/superorange5/Research/YOLOv4/yolov4_opencv/merge/Pathway2_2_merge not exist\n",
      "/home/superorange5/Research/YOLOv4/yolov4_opencv/merge/Pathway2_3_merge not exist\n",
      "/home/superorange5/Research/YOLOv4/yolov4_opencv/merge/Bus_2_merge not exist\n",
      "/home/superorange5/Research/YOLOv4/yolov4_opencv/merge/Staircase_1_merge not exist\n",
      "/home/superorange5/Research/YOLOv4/yolov4_opencv/merge/Doorway_1_merge not exist\n",
      "/home/superorange5/Research/YOLOv4/yolov4_opencv/merge/Doorway_2_merge not exist\n",
      "/home/superorange5/Research/YOLOv4/yolov4_opencv/merge/Room_1_merge not exist\n"
     ]
    }
   ],
   "source": [
    "import itertools\n",
    "channel_list = [2, 4, 6]\n",
    "iter_channel = list(itertools.combinations(channel_list, 2))\n",
    "\n",
    "method_list = ['yolo']\n",
    "\n",
    "\n",
    "dataset_list = ['Pathway1_1','Pathway2_1','Pathway2_2','Pathway2_3','Bus_2',\n",
    "                'Staircase_1',#'Staircase_2','Staircase_3','Staircase_4',\n",
    "                'Doorway_1','Doorway_2',#'Doorway_3',\n",
    "                'Room_1' #m=,'Room_2'\n",
    "               ]\n",
    "\n",
    "folder = '/home/superorange5/Research/YOLOv4/yolov4_opencv/'\n",
    "\n",
    "for method in method_list:\n",
    "    for dataset in dataset_list:\n",
    "\n",
    "        \n",
    "        output_folder = os.path.join(folder,'merge', dataset + '_merge')\n",
    "\n",
    "        if not os.path.exists(output_folder):   \n",
    "            print(\"{} not exist\".format(output_folder))\n",
    "            os.makedirs(output_folder)"
   ]
  },
  {
   "cell_type": "code",
   "execution_count": 26,
   "metadata": {},
   "outputs": [
    {
     "name": "stdout",
     "output_type": "stream",
     "text": [
      "False\n"
     ]
    }
   ],
   "source": [
    "import os\n",
    "output_folder = \"~/Research/YOLOv4/yolov4_opencv/yolo-model\"\n",
    "print(os.path.exists(output_folder))\n"
   ]
  },
  {
   "cell_type": "code",
   "execution_count": null,
   "metadata": {},
   "outputs": [],
   "source": [
    "dataset='Pathway1_1'\n",
    "output_file_name = dataset + '_ch6_' + str(idx).zfill(5) + \".txt\"\n",
    "#output_file_name=str(idx)+'.txt'\n",
    "if isFace:\n",
    "    output_file_name = dataset + '_face_' + str(idx).zfill(5) + \".txt\"\n",
    "print(os.path.join(output_folder, output_file_name))\n",
    "fo = open(os.path.join(output_folder, output_file_name), \"w\")"
   ]
  }
 ],
 "metadata": {
  "kernelspec": {
   "display_name": "Python 3",
   "language": "python",
   "name": "python3"
  },
  "language_info": {
   "codemirror_mode": {
    "name": "ipython",
    "version": 3
   },
   "file_extension": ".py",
   "mimetype": "text/x-python",
   "name": "python",
   "nbconvert_exporter": "python",
   "pygments_lexer": "ipython3",
   "version": "3.7.9"
  }
 },
 "nbformat": 4,
 "nbformat_minor": 2
}
